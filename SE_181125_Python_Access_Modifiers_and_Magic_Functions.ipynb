{
 "cells": [
  {
   "cell_type": "markdown",
   "metadata": {},
   "source": [
    "# Python 접근 제한자 (Access Modifier)"
   ]
  },
  {
   "cell_type": "markdown",
   "metadata": {},
   "source": [
    "**본 스터디 자료는 패스트캠퍼스 컴퓨터사이언스 익스텐션스쿨 2기 Dave Lee 강사님의 파이썬 객체 지향 프로그래밍에 대한 강의를 기반으로 작성되었습니다.**"
   ]
  },
  {
   "cell_type": "markdown",
   "metadata": {},
   "source": [
    "## 접근 제한자의 필요성\n",
    "* 접근 제한자의 필요성은 객체 지향 프로그래밍 (Object Oriented Programming, OOP)의 캡슐화 (Encpsulation)에 기인함\n",
    "\n",
    "\n",
    "### 캡슐화 (Encapsulation, Data Hiding)\n",
    "* 데이터에 private 또는 protected 접근 제한자를 붙임으로써 데이터에 대한 직접적인 접근을 막고, 메소드로써 데이터에 접근하도록 함\n",
    "* 메소드로써 데이터 접근하도록 할 경우 변수에 값을 할당하기 전 입력 데이터를 검증할 수 있다는 장점이 있음\n",
    "\n",
    "[이상 출처](https://www.quora.com/Why-should-we-use-access-modifiers-in-Java)"
   ]
  },
  {
   "cell_type": "markdown",
   "metadata": {},
   "source": [
    "## 접근 제한자의 종류\n",
    "* private\n",
    "    * 해당 클래스에서만 접근 가능\n",
    "* protected\n",
    "    * 해당 클래스와 그를 상속 받은 클래스에서만 접근 가능\n",
    "* public\n",
    "    * 모든 클래스에서 접근 가능\n",
    "* default / package (Java에서 사용되는 접근 제한자)\n",
    "    * 해당 패키지의 클래스에서만 접근 가능"
   ]
  },
  {
   "cell_type": "markdown",
   "metadata": {},
   "source": [
    "## Python에서의 public 접근 제한자\n",
    "* 다른 언어와 달리 Python에서는 public 접근 제한자가 기본"
   ]
  },
  {
   "cell_type": "markdown",
   "metadata": {},
   "source": [
    "## Python에서의 protected 접근 제한자\n",
    "* protected로 설정하고 싶은 변수 또는 메서드 앞에 _(single underscore)를 붙여 표시\n",
    "* 실제 제약되지 않고 일종의 경고 표시로 사용\n",
    "\n",
    "\n",
    "\n",
    "[관련 Stack Overflow의 글](https://stackoverflow.com/questions/797771/python-protected-attributes)"
   ]
  },
  {
   "cell_type": "markdown",
   "metadata": {},
   "source": [
    "## Python에서의 private 접근 제한자\n",
    "* private으로 설정하고 싶은 변수 또는 메서드 앞에 __ (double underscore)를 붙여 표시\n",
    "* __ (double underscore)를 붙이면 이름이 _ classname__해당 속성 또는 메서드 이름으로 변경되어 해당 이름으로 접근할 수 없음"
   ]
  },
  {
   "cell_type": "markdown",
   "metadata": {},
   "source": [
    "예시 : [출처](https://stackoverflow.com/questions/42801071/creating-a-playing-card-class-python)"
   ]
  },
  {
   "cell_type": "code",
   "execution_count": 4,
   "metadata": {},
   "outputs": [],
   "source": [
    "class Card:\n",
    "    def __init__(self, rank, suit):\n",
    "        self.rank = rank\n",
    "        self.suit = suit\n",
    "        self.__ranks = [None, \"Ace\", 2, 3, 4, 5, 6, 7, 8, 9, 10, \"Jack\", \"Queen\", \"King\"]\n",
    "        self.__suits = {\"d\": \"Diamonds\",\n",
    "                   \"c\": \"Clubs\",\n",
    "                   \"h\": \"Hearts\",\n",
    "                   \"s\": \"Spades\"}"
   ]
  },
  {
   "cell_type": "code",
   "execution_count": 5,
   "metadata": {},
   "outputs": [],
   "source": [
    "heart8 = Card(8, 'h');"
   ]
  },
  {
   "cell_type": "code",
   "execution_count": 6,
   "metadata": {},
   "outputs": [
    {
     "data": {
      "text/plain": [
       "['_Card__ranks',\n",
       " '_Card__suits',\n",
       " '__class__',\n",
       " '__delattr__',\n",
       " '__dict__',\n",
       " '__dir__',\n",
       " '__doc__',\n",
       " '__eq__',\n",
       " '__format__',\n",
       " '__ge__',\n",
       " '__getattribute__',\n",
       " '__gt__',\n",
       " '__hash__',\n",
       " '__init__',\n",
       " '__init_subclass__',\n",
       " '__le__',\n",
       " '__lt__',\n",
       " '__module__',\n",
       " '__ne__',\n",
       " '__new__',\n",
       " '__reduce__',\n",
       " '__reduce_ex__',\n",
       " '__repr__',\n",
       " '__setattr__',\n",
       " '__sizeof__',\n",
       " '__str__',\n",
       " '__subclasshook__',\n",
       " '__weakref__',\n",
       " 'rank',\n",
       " 'suit']"
      ]
     },
     "execution_count": 6,
     "metadata": {},
     "output_type": "execute_result"
    }
   ],
   "source": [
    "dir(heart8)"
   ]
  },
  {
   "cell_type": "code",
   "execution_count": 7,
   "metadata": {},
   "outputs": [
    {
     "ename": "AttributeError",
     "evalue": "'Card' object has no attribute 'ranks'",
     "output_type": "error",
     "traceback": [
      "\u001b[1;31m---------------------------------------------------------------------------\u001b[0m",
      "\u001b[1;31mAttributeError\u001b[0m                            Traceback (most recent call last)",
      "\u001b[1;32m<ipython-input-7-1bcbca288384>\u001b[0m in \u001b[0;36m<module>\u001b[1;34m\u001b[0m\n\u001b[1;32m----> 1\u001b[1;33m \u001b[0mheart8\u001b[0m\u001b[1;33m.\u001b[0m\u001b[0mranks\u001b[0m\u001b[1;33m\u001b[0m\u001b[1;33m\u001b[0m\u001b[0m\n\u001b[0m",
      "\u001b[1;31mAttributeError\u001b[0m: 'Card' object has no attribute 'ranks'"
     ]
    }
   ],
   "source": [
    "heart8.ranks"
   ]
  },
  {
   "cell_type": "code",
   "execution_count": 9,
   "metadata": {},
   "outputs": [
    {
     "data": {
      "text/plain": [
       "[None, 'Ace', 2, 3, 4, 5, 6, 7, 8, 9, 10, 'Jack', 'Queen', 'King']"
      ]
     },
     "execution_count": 9,
     "metadata": {},
     "output_type": "execute_result"
    }
   ],
   "source": [
    "heart8._Card__ranks"
   ]
  },
  {
   "cell_type": "markdown",
   "metadata": {},
   "source": [
    "# Python 마술 함수 (Magic Functions)"
   ]
  },
  {
   "cell_type": "markdown",
   "metadata": {},
   "source": [
    "[Python 마술 함수를 한 번에 정리](https://corikachu.github.io/articles/python/python-magic-method)"
   ]
  }
 ],
 "metadata": {
  "kernelspec": {
   "display_name": "Python 3",
   "language": "python",
   "name": "python3"
  },
  "language_info": {
   "codemirror_mode": {
    "name": "ipython",
    "version": 3
   },
   "file_extension": ".py",
   "mimetype": "text/x-python",
   "name": "python",
   "nbconvert_exporter": "python",
   "pygments_lexer": "ipython3",
   "version": "3.6.7"
  }
 },
 "nbformat": 4,
 "nbformat_minor": 2
}

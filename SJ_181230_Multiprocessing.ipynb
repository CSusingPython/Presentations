{
 "cells": [
  {
   "cell_type": "code",
   "execution_count": 19,
   "metadata": {},
   "outputs": [],
   "source": [
    "from multiprocessing import Process, Queue\n",
    "from threading import Thread\n",
    "\n",
    "import time"
   ]
  },
  {
   "cell_type": "markdown",
   "metadata": {},
   "source": [
    "reference :\n",
    "\n",
    "1. [프로세스와 스레드](https://brunch.co.kr/@kd4/3)"
   ]
  },
  {
   "cell_type": "markdown",
   "metadata": {},
   "source": [
    "### 프로세스(Process)와 스레드(Thread)\n",
    "\n",
    "#### 1. 프로세스(Process)\n",
    "\n",
    "운영체제로부터 자원을 할당받은 작업의 단위! 그래서 독립적\n",
    "\n",
    "\n",
    "장점 : \n",
    "   * 메모리를 공유하지 않음\n",
    "   * 코드 흐름이 명확함\n",
    "   * 멀티코어의 장점을 쓸 수 있음\n",
    "   * Shared Memory를 쓰지 않는 이상 동기화가 필요 없음\n",
    "   * 자식 프로세스를 Interrupt/Kill할 수 있음\n",
    "\n",
    "단점 : \n",
    "   * 메모리가 더 필요함\n",
    "\n",
    "\n",
    "#### 2. 스레드(Thread)\n",
    "\n",
    "프로세스가 할당받\n",
    "은 자원을 이용하는 실행의 단위! 그래서 종속적\n",
    "\n",
    "장점 : \n",
    "   * 메모리가 적게 필요함\n",
    "   * 메모리를 공유함 - 서로 상태를 공유하기 쉬움\n",
    "   * GIL을 이용해 병렬 처리가 가능\n",
    "단점 :\n",
    "   * interrupt/kill 할 수 없음\n",
    "   * race condition이 발생할 수 있음\n",
    "\n",
    "#### 3. GIL\n",
    "\n",
    "인터프리터도 자원을 보호해야 한다. \n",
    "\n",
    "GIL의 장점\n",
    "\n",
    "* 인터프리터의 구현이 쉬워진다.\n",
    "* 가비지 컬렉터를 만들기도 좋다. \n",
    "* C/C++ 확장 모듈을 만들기에도 좋다. \n",
    "\n",
    "GIL의 단점\n",
    "\n",
    "* CPU를 동시에 단 하나 밖에 사용하지 못한다."
   ]
  },
  {
   "cell_type": "code",
   "execution_count": 21,
   "metadata": {},
   "outputs": [],
   "source": [
    "# Start 부터 End까지 더하는 함수\n",
    "def do_work(start, end, result):\n",
    "    total = 0\n",
    "    for i in range(start, end):\n",
    "        total += i\n",
    "    result.append(total)"
   ]
  },
  {
   "cell_type": "markdown",
   "metadata": {},
   "source": [
    "### 쓰레드를 하나 이용했을 때"
   ]
  },
  {
   "cell_type": "code",
   "execution_count": 31,
   "metadata": {},
   "outputs": [
    {
     "name": "stdout",
     "output_type": "stream",
     "text": [
      "Seconds : 0.11690402030944824\n"
     ]
    }
   ],
   "source": [
    "START, END = 0, 2000000\n",
    "result = list()\n",
    "th1 = Thread(target=do_work, args=(START, END, result))\n",
    "\n",
    "start_time = time.time()\n",
    "\n",
    "th1.start()\n",
    "th1.join()\n",
    "\n",
    "print(\"Seconds : {}\".format(time.time() - start_time))"
   ]
  },
  {
   "cell_type": "code",
   "execution_count": 32,
   "metadata": {},
   "outputs": [
    {
     "name": "stdout",
     "output_type": "stream",
     "text": [
      "[1999999000000]\n"
     ]
    }
   ],
   "source": [
    "print(result)"
   ]
  },
  {
   "cell_type": "markdown",
   "metadata": {},
   "source": [
    "### 쓰레드를 두개 이용했을 때"
   ]
  },
  {
   "cell_type": "code",
   "execution_count": 33,
   "metadata": {},
   "outputs": [
    {
     "name": "stdout",
     "output_type": "stream",
     "text": [
      "Seconds : 0.1184530258178711\n"
     ]
    }
   ],
   "source": [
    "START, END = 0, 2000000\n",
    "result = list()\n",
    "th1 = Thread(target=do_work, args=(START, END//2, result))\n",
    "th2 = Thread(target=do_work, args=(END//2, END, result))\n",
    "\n",
    "start_time = time.time()\n",
    "\n",
    "th1.start()\n",
    "th2.start()\n",
    "th1.join()\n",
    "th2.join()\n",
    "\n",
    "print(\"Seconds : {}\".format(time.time() - start_time))"
   ]
  },
  {
   "cell_type": "code",
   "execution_count": 35,
   "metadata": {},
   "outputs": [
    {
     "data": {
      "text/plain": [
       "1999999000000"
      ]
     },
     "execution_count": 35,
     "metadata": {},
     "output_type": "execute_result"
    }
   ],
   "source": [
    "sum(result)"
   ]
  },
  {
   "cell_type": "markdown",
   "metadata": {},
   "source": [
    "### 프로세스를 2개 이용했을 때"
   ]
  },
  {
   "cell_type": "code",
   "execution_count": 40,
   "metadata": {},
   "outputs": [
    {
     "name": "stdout",
     "output_type": "stream",
     "text": [
      "Seconds : 0.07749295234680176\n"
     ]
    }
   ],
   "source": [
    "START, END = 0, 2000000\n",
    "result = list()\n",
    "pr1 = Process(target=do_work, args=(START, END//2, result))\n",
    "pr2 = Process(target=do_work, args=(END//2, END, result))\n",
    "\n",
    "start_time = time.time()\n",
    "\n",
    "pr1.start()\n",
    "pr2.start()\n",
    "pr1.join()\n",
    "pr2.join()\n",
    "\n",
    "print(\"Seconds : {}\".format(time.time() - start_time))"
   ]
  },
  {
   "cell_type": "code",
   "execution_count": 42,
   "metadata": {},
   "outputs": [
    {
     "name": "stdout",
     "output_type": "stream",
     "text": [
      "[]\n"
     ]
    }
   ],
   "source": [
    "print(result)"
   ]
  },
  {
   "cell_type": "markdown",
   "metadata": {},
   "source": [
    "...?"
   ]
  },
  {
   "cell_type": "code",
   "execution_count": 43,
   "metadata": {},
   "outputs": [],
   "source": [
    "from multiprocessing import Queue"
   ]
  },
  {
   "cell_type": "code",
   "execution_count": 44,
   "metadata": {},
   "outputs": [],
   "source": [
    "# Start 부터 End까지 더하는 함수\n",
    "def do_work(start, end, result):\n",
    "    total = 0\n",
    "    for i in range(start, end):\n",
    "        total += i\n",
    "    result.put(total)"
   ]
  },
  {
   "cell_type": "code",
   "execution_count": 45,
   "metadata": {},
   "outputs": [
    {
     "name": "stdout",
     "output_type": "stream",
     "text": [
      "Seconds : 0.0784749984741211\n"
     ]
    }
   ],
   "source": [
    "START, END = 0, 2000000\n",
    "result = Queue()\n",
    "pr1 = Process(target=do_work, args=(START, END//2, result))\n",
    "pr2 = Process(target=do_work, args=(END//2, END, result))\n",
    "\n",
    "start_time = time.time()\n",
    "\n",
    "pr1.start()\n",
    "pr2.start()\n",
    "pr1.join()\n",
    "pr2.join()\n",
    "\n",
    "print(\"Seconds : {}\".format(time.time() - start_time))"
   ]
  },
  {
   "cell_type": "code",
   "execution_count": 54,
   "metadata": {},
   "outputs": [
    {
     "name": "stdout",
     "output_type": "stream",
     "text": [
      "0\n"
     ]
    }
   ],
   "source": [
    "total = 0\n",
    "while not result.empty():\n",
    "    \n",
    "    tmp = result.get()\n",
    "    print(tmp)\n",
    "    total += tmp\n",
    "print(total)"
   ]
  },
  {
   "cell_type": "code",
   "execution_count": 52,
   "metadata": {},
   "outputs": [
    {
     "data": {
      "text/plain": [
       "1999999000000"
      ]
     },
     "execution_count": 52,
     "metadata": {},
     "output_type": "execute_result"
    }
   ],
   "source": []
  },
  {
   "cell_type": "code",
   "execution_count": 46,
   "metadata": {},
   "outputs": [
    {
     "data": {
      "text/plain": [
       "<multiprocessing.queues.Queue at 0x107d31a90>"
      ]
     },
     "execution_count": 46,
     "metadata": {},
     "output_type": "execute_result"
    }
   ],
   "source": [
    "while result.get()"
   ]
  },
  {
   "cell_type": "code",
   "execution_count": null,
   "metadata": {},
   "outputs": [],
   "source": []
  }
 ],
 "metadata": {
  "kernelspec": {
   "display_name": "Python 3",
   "language": "python",
   "name": "python3"
  },
  "language_info": {
   "codemirror_mode": {
    "name": "ipython",
    "version": 3
   },
   "file_extension": ".py",
   "mimetype": "text/x-python",
   "name": "python",
   "nbconvert_exporter": "python",
   "pygments_lexer": "ipython3",
   "version": "3.6.5"
  }
 },
 "nbformat": 4,
 "nbformat_minor": 2
}
